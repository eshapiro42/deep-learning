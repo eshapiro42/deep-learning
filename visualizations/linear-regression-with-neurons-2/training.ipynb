{
 "cells": [
  {
   "cell_type": "code",
   "execution_count": 6,
   "metadata": {},
   "outputs": [],
   "source": [
    "import time\n",
    "from abc import abstractmethod\n",
    "\n",
    "\n",
    "class Neuron:\n",
    "    def __init__(self):\n",
    "        self.total_epochs = 0\n",
    "        self.parameters = {}\n",
    "        self.costs = []\n",
    "        \n",
    "    @abstractmethod\n",
    "    def predict(self, input):\n",
    "        pass\n",
    "    \n",
    "    @abstractmethod\n",
    "    def compute_gradient(self, inputs, true_outputs):\n",
    "        pass\n",
    "            \n",
    "    @abstractmethod\n",
    "    def gradient_descent(self, inputs, true_outputs, learning_rate):\n",
    "        pass\n",
    "    \n",
    "    def loss(self, actual, prediction):\n",
    "        return (actual - prediction)**2\n",
    "        \n",
    "    def cost(self, inputs, true_outputs):\n",
    "        sum_of_losses = 0\n",
    "        for idx, input in enumerate(inputs):\n",
    "            prediction = self.predict(input)\n",
    "            actual = true_outputs[idx]\n",
    "            sum_of_losses += self.loss(actual, prediction)\n",
    "        return sum_of_losses / len(inputs)\n",
    "    \n",
    "    def train(self, inputs, true_outputs, epochs=100, learning_rate=0.01):\n",
    "        start = time.time()\n",
    "        for epoch in range(epochs):\n",
    "            self.gradient_descent(inputs, true_outputs, learning_rate)\n",
    "            cost = self.cost(inputs, true_outputs)\n",
    "            self.costs.append(cost)\n",
    "            if epoch == 0 or (epoch + 1) % 10 == 0 or epoch == epochs - 1:\n",
    "                end = time.time()\n",
    "                print(f'Epoch: {self.total_epochs + 1:<10} Cost = {cost:<20.9E} Time = {1000 * (end - start):.9f}ms')\n",
    "                start = time.time()\n",
    "            self.total_epochs += 1"
   ]
  },
  {
   "cell_type": "code",
   "execution_count": 7,
   "metadata": {},
   "outputs": [],
   "source": [
    "class TwoParameterNeuron(Neuron):\n",
    "    def __init__(self):\n",
    "        super().__init__()\n",
    "        self.parameters = {\n",
    "            'w': 0,\n",
    "            'b': 0,\n",
    "        }\n",
    "        \n",
    "    def predict(self, input):\n",
    "        return self.parameters['w'] * input + self.parameters['b']\n",
    "    \n",
    "    def compute_gradient(self, inputs, true_outputs):\n",
    "        D_w = 0\n",
    "        D_b = 0\n",
    "        for idx, input in enumerate(inputs):\n",
    "            actual = true_outputs[idx]\n",
    "            prediction = self.predict(input)\n",
    "            D_w += -2 * (actual - prediction) * input\n",
    "            D_b += -2 * (actual - prediction)\n",
    "        D_w /= len(inputs)\n",
    "        D_b /= len(inputs)\n",
    "        return D_w, D_b\n",
    "            \n",
    "    def gradient_descent(self, inputs, true_outputs, learning_rate):\n",
    "        D_w, D_b = self.compute_gradient(inputs, true_outputs)\n",
    "        self.parameters['w'] -= learning_rate * D_w\n",
    "        self.parameters['b'] -= learning_rate * D_b"
   ]
  },
  {
   "cell_type": "code",
   "execution_count": 8,
   "metadata": {},
   "outputs": [],
   "source": [
    "import numpy as np\n",
    "\n",
    "np.random.seed(1)\n",
    "\n",
    "x = (np.random.rand(1000) - .5) * 10\n",
    "y = -2 * x + np.random.normal(0, 2, x.shape) + 5"
   ]
  },
  {
   "cell_type": "code",
   "execution_count": 9,
   "metadata": {},
   "outputs": [
    {
     "name": "stdout",
     "output_type": "stream",
     "text": [
      "Epoch: 1          Cost = 5.206249789E+01      Time = 4.866361618ms\n",
      "Epoch: 10         Cost = 2.235661830E+01      Time = 20.680904388ms\n",
      "Epoch: 20         Cost = 1.574645850E+01      Time = 15.800476074ms\n",
      "Epoch: 30         Cost = 1.187650496E+01      Time = 15.785217285ms\n",
      "Epoch: 40         Cost = 9.307178131E+00      Time = 15.537738800ms\n",
      "Epoch: 50         Cost = 7.592247609E+00      Time = 15.341997147ms\n",
      "Epoch: 60         Cost = 6.447353881E+00      Time = 15.246868134ms\n",
      "Epoch: 70         Cost = 5.683012403E+00      Time = 15.247583389ms\n",
      "Epoch: 80         Cost = 5.172730905E+00      Time = 15.332937241ms\n",
      "Epoch: 90         Cost = 4.832062215E+00      Time = 15.238285065ms\n",
      "Epoch: 100        Cost = 4.604628617E+00      Time = 15.360832214ms\n"
     ]
    }
   ],
   "source": [
    "neuron = TwoParameterNeuron()\n",
    "neuron.train(x, y)"
   ]
  },
  {
   "cell_type": "code",
   "execution_count": 11,
   "metadata": {},
   "outputs": [
    {
     "name": "stderr",
     "output_type": "stream",
     "text": [
      "/home/eric/.local/lib/python3.6/site-packages/IPython/core/display.py:689: UserWarning:\n",
      "\n",
      "Consider using IPython.display.IFrame instead\n",
      "\n"
     ]
    },
    {
     "data": {
      "text/html": [
       "<iframe id=\"igraph\" scrolling=\"no\" style=\"border:none;\" seamless=\"seamless\" src=\"https://plot.ly/~eshapiro/105.embed\" height=\"525px\" width=\"100%\"></iframe>"
      ],
      "text/plain": [
       "<chart_studio.tools.PlotlyDisplay object>"
      ]
     },
     "execution_count": 11,
     "metadata": {},
     "output_type": "execute_result"
    }
   ],
   "source": [
    "import plotly.graph_objs as go\n",
    "from plotly.plotly import iplot\n",
    "# from plotly.offline import download_plotlyjs, init_notebook_mode, iplot\n",
    "# init_notebook_mode(connected=True)\n",
    "\n",
    "x = np.linspace(1, 100, 100)\n",
    "y = np.array(neuron.costs)\n",
    "\n",
    "scatter = go.Scatter(x=x, y=y, mode='lines')\n",
    "\n",
    "iplot([scatter])"
   ]
  },
  {
   "cell_type": "code",
   "execution_count": 14,
   "metadata": {},
   "outputs": [
    {
     "name": "stdout",
     "output_type": "stream",
     "text": [
      "Epoch: 1          Cost = 5.206249789E+01      Time = 4.837274551ms\n",
      "Epoch: 10         Cost = 2.235661830E+01      Time = 14.240264893ms\n",
      "Epoch: 20         Cost = 1.574645850E+01      Time = 15.596866608ms\n",
      "Epoch: 30         Cost = 1.187650496E+01      Time = 15.686988831ms\n",
      "Epoch: 40         Cost = 9.307178131E+00      Time = 15.378952026ms\n",
      "Epoch: 50         Cost = 7.592247609E+00      Time = 15.997171402ms\n",
      "Epoch: 60         Cost = 6.447353881E+00      Time = 15.787601471ms\n",
      "Epoch: 70         Cost = 5.683012403E+00      Time = 15.647411346ms\n",
      "Epoch: 80         Cost = 5.172730905E+00      Time = 15.378952026ms\n",
      "Epoch: 90         Cost = 4.832062215E+00      Time = 16.739368439ms\n",
      "Epoch: 100        Cost = 4.604628617E+00      Time = 15.462636948ms\n",
      "Epoch: 110        Cost = 4.452791825E+00      Time = 15.604257584ms\n",
      "Epoch: 120        Cost = 4.351424165E+00      Time = 15.259981155ms\n",
      "Epoch: 130        Cost = 4.283750169E+00      Time = 15.272378922ms\n",
      "Epoch: 140        Cost = 4.238570378E+00      Time = 15.222072601ms\n",
      "Epoch: 150        Cost = 4.208407928E+00      Time = 16.343116760ms\n",
      "Epoch: 160        Cost = 4.188271195E+00      Time = 15.358209610ms\n",
      "Epoch: 170        Cost = 4.174827723E+00      Time = 15.235662460ms\n",
      "Epoch: 180        Cost = 4.165852737E+00      Time = 15.478610992ms\n",
      "Epoch: 190        Cost = 4.159860952E+00      Time = 15.506267548ms\n",
      "Epoch: 200        Cost = 4.155860780E+00      Time = 15.381574631ms\n",
      "Epoch: 210        Cost = 4.153190228E+00      Time = 15.516757965ms\n",
      "Epoch: 220        Cost = 4.151407343E+00      Time = 16.462802887ms\n",
      "Epoch: 230        Cost = 4.150217072E+00      Time = 15.900135040ms\n",
      "Epoch: 240        Cost = 4.149422436E+00      Time = 15.677928925ms\n",
      "Epoch: 250        Cost = 4.148891930E+00      Time = 15.315055847ms\n",
      "Epoch: 260        Cost = 4.148537759E+00      Time = 15.326261520ms\n",
      "Epoch: 270        Cost = 4.148301311E+00      Time = 15.334367752ms\n",
      "Epoch: 280        Cost = 4.148143456E+00      Time = 16.493082047ms\n",
      "Epoch: 290        Cost = 4.148038071E+00      Time = 15.531778336ms\n",
      "Epoch: 300        Cost = 4.147967714E+00      Time = 16.222953796ms\n",
      "Epoch: 310        Cost = 4.147920744E+00      Time = 16.123294830ms\n",
      "Epoch: 320        Cost = 4.147889386E+00      Time = 15.956163406ms\n",
      "Epoch: 330        Cost = 4.147868451E+00      Time = 15.882015228ms\n",
      "Epoch: 340        Cost = 4.147854475E+00      Time = 16.431570053ms\n",
      "Epoch: 350        Cost = 4.147845144E+00      Time = 15.507459641ms\n",
      "Epoch: 360        Cost = 4.147838915E+00      Time = 15.777349472ms\n",
      "Epoch: 370        Cost = 4.147834756E+00      Time = 15.744209290ms\n",
      "Epoch: 380        Cost = 4.147831980E+00      Time = 15.546560287ms\n",
      "Epoch: 390        Cost = 4.147830126E+00      Time = 15.480279922ms\n",
      "Epoch: 400        Cost = 4.147828889E+00      Time = 15.550374985ms\n",
      "Epoch: 410        Cost = 4.147828063E+00      Time = 15.771627426ms\n",
      "Epoch: 420        Cost = 4.147827511E+00      Time = 15.501022339ms\n",
      "Epoch: 430        Cost = 4.147827143E+00      Time = 15.504121780ms\n",
      "Epoch: 440        Cost = 4.147826897E+00      Time = 15.518188477ms\n",
      "Epoch: 450        Cost = 4.147826733E+00      Time = 15.450239182ms\n",
      "Epoch: 460        Cost = 4.147826623E+00      Time = 15.519618988ms\n",
      "Epoch: 470        Cost = 4.147826550E+00      Time = 15.809297562ms\n",
      "Epoch: 480        Cost = 4.147826501E+00      Time = 15.456914902ms\n",
      "Epoch: 490        Cost = 4.147826469E+00      Time = 16.401529312ms\n",
      "Epoch: 500        Cost = 4.147826447E+00      Time = 15.679836273ms\n",
      "Epoch: 510        Cost = 4.147826433E+00      Time = 15.503406525ms\n",
      "Epoch: 520        Cost = 4.147826423E+00      Time = 15.510559082ms\n",
      "Epoch: 530        Cost = 4.147826416E+00      Time = 15.758752823ms\n",
      "Epoch: 540        Cost = 4.147826412E+00      Time = 15.660762787ms\n",
      "Epoch: 550        Cost = 4.147826409E+00      Time = 15.519142151ms\n",
      "Epoch: 560        Cost = 4.147826407E+00      Time = 15.745401382ms\n",
      "Epoch: 570        Cost = 4.147826406E+00      Time = 15.550136566ms\n",
      "Epoch: 580        Cost = 4.147826405E+00      Time = 15.718221664ms\n",
      "Epoch: 590        Cost = 4.147826404E+00      Time = 15.589952469ms\n",
      "Epoch: 600        Cost = 4.147826404E+00      Time = 15.785455704ms\n",
      "Epoch: 610        Cost = 4.147826404E+00      Time = 15.688896179ms\n",
      "Epoch: 620        Cost = 4.147826404E+00      Time = 15.588521957ms\n",
      "Epoch: 630        Cost = 4.147826404E+00      Time = 15.916109085ms\n",
      "Epoch: 640        Cost = 4.147826404E+00      Time = 15.736103058ms\n",
      "Epoch: 650        Cost = 4.147826403E+00      Time = 15.507936478ms\n",
      "Epoch: 660        Cost = 4.147826403E+00      Time = 15.829324722ms\n",
      "Epoch: 670        Cost = 4.147826403E+00      Time = 15.593051910ms\n",
      "Epoch: 680        Cost = 4.147826403E+00      Time = 15.580177307ms\n",
      "Epoch: 690        Cost = 4.147826403E+00      Time = 15.607595444ms\n",
      "Epoch: 700        Cost = 4.147826403E+00      Time = 15.658140182ms\n",
      "Epoch: 710        Cost = 4.147826403E+00      Time = 15.519857407ms\n",
      "Epoch: 720        Cost = 4.147826403E+00      Time = 19.006013870ms\n",
      "Epoch: 730        Cost = 4.147826403E+00      Time = 26.702404022ms\n",
      "Epoch: 740        Cost = 4.147826403E+00      Time = 15.812397003ms\n",
      "Epoch: 750        Cost = 4.147826403E+00      Time = 15.560865402ms\n",
      "Epoch: 760        Cost = 4.147826403E+00      Time = 15.531063080ms\n",
      "Epoch: 770        Cost = 4.147826403E+00      Time = 15.631198883ms\n",
      "Epoch: 780        Cost = 4.147826403E+00      Time = 16.975641251ms\n",
      "Epoch: 790        Cost = 4.147826403E+00      Time = 15.570163727ms\n",
      "Epoch: 800        Cost = 4.147826403E+00      Time = 17.044544220ms\n",
      "Epoch: 810        Cost = 4.147826403E+00      Time = 18.732786179ms\n",
      "Epoch: 820        Cost = 4.147826403E+00      Time = 15.756845474ms\n",
      "Epoch: 830        Cost = 4.147826403E+00      Time = 15.542268753ms\n",
      "Epoch: 840        Cost = 4.147826403E+00      Time = 16.040325165ms\n",
      "Epoch: 850        Cost = 4.147826403E+00      Time = 15.678882599ms\n",
      "Epoch: 860        Cost = 4.147826403E+00      Time = 15.641927719ms\n",
      "Epoch: 870        Cost = 4.147826403E+00      Time = 15.776157379ms\n",
      "Epoch: 880        Cost = 4.147826403E+00      Time = 15.891313553ms\n",
      "Epoch: 890        Cost = 4.147826403E+00      Time = 15.340805054ms\n",
      "Epoch: 900        Cost = 4.147826403E+00      Time = 15.717506409ms\n",
      "Epoch: 910        Cost = 4.147826403E+00      Time = 15.822172165ms\n",
      "Epoch: 920        Cost = 4.147826403E+00      Time = 16.022920609ms\n",
      "Epoch: 930        Cost = 4.147826403E+00      Time = 15.611648560ms\n",
      "Epoch: 940        Cost = 4.147826403E+00      Time = 15.866518021ms\n",
      "Epoch: 950        Cost = 4.147826403E+00      Time = 16.086101532ms\n",
      "Epoch: 960        Cost = 4.147826403E+00      Time = 15.843629837ms\n",
      "Epoch: 970        Cost = 4.147826403E+00      Time = 15.917062759ms\n",
      "Epoch: 980        Cost = 4.147826403E+00      Time = 15.640497208ms\n",
      "Epoch: 990        Cost = 4.147826403E+00      Time = 15.727043152ms\n",
      "Epoch: 1000       Cost = 4.147826403E+00      Time = 15.685796738ms\n"
     ]
    },
    {
     "data": {
      "text/html": [
       "<iframe id=\"igraph\" scrolling=\"no\" style=\"border:none;\" seamless=\"seamless\" src=\"https://plot.ly/~eshapiro/109.embed\" height=\"525px\" width=\"100%\"></iframe>"
      ],
      "text/plain": [
       "<chart_studio.tools.PlotlyDisplay object>"
      ]
     },
     "execution_count": 14,
     "metadata": {},
     "output_type": "execute_result"
    }
   ],
   "source": [
    "np.random.seed(1)\n",
    "\n",
    "x = (np.random.rand(1000) - .5) * 10\n",
    "y = -2 * x + np.random.normal(0, 2, x.shape) + 5\n",
    "\n",
    "neuron = TwoParameterNeuron()\n",
    "neuron.train(x, y, epochs=1000)\n",
    "\n",
    "x = np.linspace(1, 1000, 1000)\n",
    "y = np.array(neuron.costs)\n",
    "\n",
    "scatter = go.Scatter(x=x, y=y, mode='lines')\n",
    "\n",
    "iplot([scatter])"
   ]
  },
  {
   "cell_type": "code",
   "execution_count": null,
   "metadata": {},
   "outputs": [],
   "source": []
  }
 ],
 "metadata": {
  "kernelspec": {
   "display_name": "Python 3",
   "language": "python",
   "name": "python3"
  },
  "language_info": {
   "codemirror_mode": {
    "name": "ipython",
    "version": 3
   },
   "file_extension": ".py",
   "mimetype": "text/x-python",
   "name": "python",
   "nbconvert_exporter": "python",
   "pygments_lexer": "ipython3",
   "version": "3.6.7"
  }
 },
 "nbformat": 4,
 "nbformat_minor": 2
}
